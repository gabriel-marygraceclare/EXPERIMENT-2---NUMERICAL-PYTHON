{
 "cells": [
  {
   "cell_type": "markdown",
   "id": "eb6b20b3-92df-41f0-9d94-e68951907893",
   "metadata": {},
   "source": [
    "## Normalization Problem"
   ]
  },
  {
   "cell_type": "code",
   "execution_count": 1,
   "id": "1ec5de56-21e7-46fd-9916-512a92f5b1a0",
   "metadata": {},
   "outputs": [
    {
     "name": "stdout",
     "output_type": "stream",
     "text": [
      "[[ 1.40702932 -0.36922981 -0.44669163  0.39495575  0.12844057]\n",
      " [ 0.00333907 -0.10930459 -0.34561655 -0.36480783  0.49127723]\n",
      " [-1.58491636 -0.51604836  1.59731026  0.46077559 -0.868544  ]\n",
      " [ 1.39630733 -1.34942105  0.80115197  0.95990463 -0.83563785]\n",
      " [-1.19365853 -1.42970764  1.57138962 -1.2627955   1.46449835]]\n"
     ]
    }
   ],
   "source": [
    "import numpy as np #import the library first\n",
    "\n",
    "X = np.random.random((5,5)) #making a 5 x 5 array of random numbers\n",
    "X_Normalized = (X - X.mean()) / X.std() #normalizing the x\n",
    "np.save('X_normalized.npy', X_Normalized) #saving the aaray\n",
    "print (X_Normalized) #printing the result\n"
   ]
  },
  {
   "cell_type": "markdown",
   "id": "d52a7a35-825b-4d38-8919-e345acaa4500",
   "metadata": {},
   "source": [
    "## DIvisible By 3 Problem"
   ]
  },
  {
   "cell_type": "code",
   "execution_count": 2,
   "id": "58a2697d-6ecf-432d-a9ed-0458f1348a51",
   "metadata": {},
   "outputs": [
    {
     "name": "stdout",
     "output_type": "stream",
     "text": [
      "[   9   36   81  144  225  324  441  576  729  900 1089 1296 1521 1764\n",
      " 2025 2304 2601 2916 3249 3600 3969 4356 4761 5184 5625 6084 6561 7056\n",
      " 7569 8100 8649 9216 9801]\n"
     ]
    }
   ],
   "source": [
    "import numpy as np #import the library\n",
    "\n",
    "#make the ndarray\n",
    "#i**2 for exponentation \n",
    "#for the first 100 integers\n",
    "A = np.array([i**2 for i in range(1,101)]) \n",
    "\n",
    "#creating the 100 x 10 ndarray\n",
    "A.reshape(10,10)\n",
    "\n",
    "#determining the elements divisible by 3\n",
    "#use modulo to find the ramainder and set to 0 to get whole number only\n",
    "divisible_by_3 = A[A%3 == 0]\n",
    "\n",
    "#saving the result as \"div_by_3\"\n",
    "np.save('diy_by_3', divisible_by_3)\n",
    "\n",
    "#printing the ndarray of elements that are divisible to 3\n",
    "print (divisible_by_3)"
   ]
  }
 ],
 "metadata": {
  "kernelspec": {
   "display_name": "Python 3 (ipykernel)",
   "language": "python",
   "name": "python3"
  },
  "language_info": {
   "codemirror_mode": {
    "name": "ipython",
    "version": 3
   },
   "file_extension": ".py",
   "mimetype": "text/x-python",
   "name": "python",
   "nbconvert_exporter": "python",
   "pygments_lexer": "ipython3",
   "version": "3.13.5"
  }
 },
 "nbformat": 4,
 "nbformat_minor": 5
}
